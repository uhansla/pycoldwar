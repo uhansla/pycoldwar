{
 "cells": [
  {
   "metadata": {
    "ExecuteTime": {
     "end_time": "2025-04-26T09:06:46.363031Z",
     "start_time": "2025-04-26T09:06:46.360575Z"
    }
   },
   "cell_type": "code",
   "source": [
    "from lupa import LuaRuntime\n",
    "import pandas as pd\n",
    "import dcs.planes as planes\n",
    "import dcs.task as task\n",
    "\n",
    "import dcs_util as dcs_util\n",
    "from collections import defaultdict"
   ],
   "id": "d984c440cd5aaee1",
   "outputs": [],
   "execution_count": 14
  },
  {
   "metadata": {
    "ExecuteTime": {
     "end_time": "2025-04-26T09:06:46.384107Z",
     "start_time": "2025-04-26T09:06:46.379034Z"
    }
   },
   "cell_type": "code",
   "source": [
    "planes_dict = dict([(name, cls) for name, cls in planes.__dict__.items() if isinstance(cls, type)])\n",
    "planes_dict"
   ],
   "id": "b16081e7db833632",
   "outputs": [
    {
     "data": {
      "text/plain": [
       "{'Any': typing.Any,\n",
       " 'Weapons': dcs.weapons_data.Weapons,\n",
       " 'FlyingType': dcs.unittype.FlyingType,\n",
       " 'Liveries': dcs.liveries_scanner.Liveries,\n",
       " 'PlaneType': dcs.planes.PlaneType,\n",
       " 'Tornado_GR4': dcs.planes.Tornado_GR4,\n",
       " 'Tornado_IDS': dcs.planes.Tornado_IDS,\n",
       " 'F_A_18A': dcs.planes.F_A_18A,\n",
       " 'F_A_18C': dcs.planes.F_A_18C,\n",
       " 'F_14A': dcs.planes.F_14A,\n",
       " 'Tu_22M3': dcs.planes.Tu_22M3,\n",
       " 'F_4E': dcs.planes.F_4E,\n",
       " 'B_52H': dcs.planes.B_52H,\n",
       " 'MiG_27K': dcs.planes.MiG_27K,\n",
       " 'Su_27': dcs.planes.Su_27,\n",
       " 'MiG_23MLD': dcs.planes.MiG_23MLD,\n",
       " 'Su_25': dcs.planes.Su_25,\n",
       " 'Su_25TM': dcs.planes.Su_25TM,\n",
       " 'Su_25T': dcs.planes.Su_25T,\n",
       " 'Su_33': dcs.planes.Su_33,\n",
       " 'MiG_25PD': dcs.planes.MiG_25PD,\n",
       " 'MiG_25RBT': dcs.planes.MiG_25RBT,\n",
       " 'Su_30': dcs.planes.Su_30,\n",
       " 'Su_17M4': dcs.planes.Su_17M4,\n",
       " 'MiG_31': dcs.planes.MiG_31,\n",
       " 'Tu_95MS': dcs.planes.Tu_95MS,\n",
       " 'Su_24M': dcs.planes.Su_24M,\n",
       " 'Su_24MR': dcs.planes.Su_24MR,\n",
       " 'Tu_160': dcs.planes.Tu_160,\n",
       " 'F_117A': dcs.planes.F_117A,\n",
       " 'B_1B': dcs.planes.B_1B,\n",
       " 'S_3B': dcs.planes.S_3B,\n",
       " 'S_3B_Tanker': dcs.planes.S_3B_Tanker,\n",
       " 'Mirage_2000_5': dcs.planes.Mirage_2000_5,\n",
       " 'F_15C': dcs.planes.F_15C,\n",
       " 'F_15E': dcs.planes.F_15E,\n",
       " 'MiG_29A': dcs.planes.MiG_29A,\n",
       " 'MiG_29G': dcs.planes.MiG_29G,\n",
       " 'MiG_29S': dcs.planes.MiG_29S,\n",
       " 'Tu_142': dcs.planes.Tu_142,\n",
       " 'C_130': dcs.planes.C_130,\n",
       " 'An_26B': dcs.planes.An_26B,\n",
       " 'An_30M': dcs.planes.An_30M,\n",
       " 'C_17A': dcs.planes.C_17A,\n",
       " 'A_50': dcs.planes.A_50,\n",
       " 'E_3A': dcs.planes.E_3A,\n",
       " 'IL_78M': dcs.planes.IL_78M,\n",
       " 'E_2C': dcs.planes.E_2C,\n",
       " 'IL_76MD': dcs.planes.IL_76MD,\n",
       " 'F_16C_bl_50': dcs.planes.F_16C_bl_50,\n",
       " 'F_16C_bl_52d': dcs.planes.F_16C_bl_52d,\n",
       " 'F_16A': dcs.planes.F_16A,\n",
       " 'F_16A_MLU': dcs.planes.F_16A_MLU,\n",
       " 'RQ_1A_Predator': dcs.planes.RQ_1A_Predator,\n",
       " 'Yak_40': dcs.planes.Yak_40,\n",
       " 'KC_135': dcs.planes.KC_135,\n",
       " 'FW_190D9': dcs.planes.FW_190D9,\n",
       " 'FW_190A8': dcs.planes.FW_190A8,\n",
       " 'Bf_109K_4': dcs.planes.Bf_109K_4,\n",
       " 'SpitfireLFMkIX': dcs.planes.SpitfireLFMkIX,\n",
       " 'SpitfireLFMkIXCW': dcs.planes.SpitfireLFMkIXCW,\n",
       " 'P_51D': dcs.planes.P_51D,\n",
       " 'P_51D_30_NA': dcs.planes.P_51D_30_NA,\n",
       " 'P_47D_30': dcs.planes.P_47D_30,\n",
       " 'P_47D_30bl1': dcs.planes.P_47D_30bl1,\n",
       " 'P_47D_40': dcs.planes.P_47D_40,\n",
       " 'MosquitoFBMkVI': dcs.planes.MosquitoFBMkVI,\n",
       " 'A_20G': dcs.planes.A_20G,\n",
       " 'A_10A': dcs.planes.A_10A,\n",
       " 'A_10C': dcs.planes.A_10C,\n",
       " 'A_10C_2': dcs.planes.A_10C_2,\n",
       " 'AJS37': dcs.planes.AJS37,\n",
       " 'AV8BNA': dcs.planes.AV8BNA,\n",
       " 'KC130': dcs.planes.KC130,\n",
       " 'KC135MPRS': dcs.planes.KC135MPRS,\n",
       " 'C_101EB': dcs.planes.C_101EB,\n",
       " 'C_101CC': dcs.planes.C_101CC,\n",
       " 'J_11A': dcs.planes.J_11A,\n",
       " 'JF_17': dcs.planes.JF_17,\n",
       " 'KJ_2000': dcs.planes.KJ_2000,\n",
       " 'WingLoong_I': dcs.planes.WingLoong_I,\n",
       " 'H_6J': dcs.planes.H_6J,\n",
       " 'Christen_Eagle_II': dcs.planes.Christen_Eagle_II,\n",
       " 'F_16C_50': dcs.planes.F_16C_50,\n",
       " 'F_5E': dcs.planes.F_5E,\n",
       " 'F_5E_3': dcs.planes.F_5E_3,\n",
       " 'F_86F_Sabre': dcs.planes.F_86F_Sabre,\n",
       " 'F_14B': dcs.planes.F_14B,\n",
       " 'F_14A_135_GR': dcs.planes.F_14A_135_GR,\n",
       " 'FA_18C_hornet': dcs.planes.FA_18C_hornet,\n",
       " 'Hawk': dcs.planes.Hawk,\n",
       " 'I_16': dcs.planes.I_16,\n",
       " 'L_39C': dcs.planes.L_39C,\n",
       " 'L_39ZA': dcs.planes.L_39ZA,\n",
       " 'M_2000C': dcs.planes.M_2000C,\n",
       " 'MB_339A': dcs.planes.MB_339A,\n",
       " 'MB_339APAN': dcs.planes.MB_339APAN,\n",
       " 'MQ_9_Reaper': dcs.planes.MQ_9_Reaper,\n",
       " 'MiG_15bis': dcs.planes.MiG_15bis,\n",
       " 'MiG_19P': dcs.planes.MiG_19P,\n",
       " 'MiG_21Bis': dcs.planes.MiG_21Bis,\n",
       " 'Mirage_F1C': dcs.planes.Mirage_F1C,\n",
       " 'Mirage_F1CE': dcs.planes.Mirage_F1CE,\n",
       " 'Mirage_F1EE': dcs.planes.Mirage_F1EE,\n",
       " 'Mirage_F1M_EE': dcs.planes.Mirage_F1M_EE,\n",
       " 'Mirage_F1M_CE': dcs.planes.Mirage_F1M_CE,\n",
       " 'Mirage_F1C_200': dcs.planes.Mirage_F1C_200,\n",
       " 'Mirage_F1EH': dcs.planes.Mirage_F1EH,\n",
       " 'Mirage_F1CH': dcs.planes.Mirage_F1CH,\n",
       " 'Mirage_F1JA': dcs.planes.Mirage_F1JA,\n",
       " 'Mirage_F1CG': dcs.planes.Mirage_F1CG,\n",
       " 'Mirage_F1CZ': dcs.planes.Mirage_F1CZ,\n",
       " 'Mirage_F1CJ': dcs.planes.Mirage_F1CJ,\n",
       " 'Mirage_F1CK': dcs.planes.Mirage_F1CK,\n",
       " 'Mirage_F1EQ': dcs.planes.Mirage_F1EQ,\n",
       " 'Mirage_F1ED': dcs.planes.Mirage_F1ED,\n",
       " 'Mirage_F1EDA': dcs.planes.Mirage_F1EDA,\n",
       " 'Mirage_F1CR': dcs.planes.Mirage_F1CR,\n",
       " 'Mirage_F1CT': dcs.planes.Mirage_F1CT,\n",
       " 'Mirage_F1B': dcs.planes.Mirage_F1B,\n",
       " 'Mirage_F1BE': dcs.planes.Mirage_F1BE,\n",
       " 'Mirage_F1BQ': dcs.planes.Mirage_F1BQ,\n",
       " 'Mirage_F1BD': dcs.planes.Mirage_F1BD,\n",
       " 'Mirage_F1DDA': dcs.planes.Mirage_F1DDA,\n",
       " 'Su_34': dcs.planes.Su_34,\n",
       " 'Yak_52': dcs.planes.Yak_52,\n",
       " 'B_17G': dcs.planes.B_17G,\n",
       " 'Ju_88A4': dcs.planes.Ju_88A4,\n",
       " 'C_47': dcs.planes.C_47,\n",
       " 'TF_51D': dcs.planes.TF_51D}"
      ]
     },
     "execution_count": 15,
     "metadata": {},
     "output_type": "execute_result"
    }
   ],
   "execution_count": 15
  },
  {
   "metadata": {
    "ExecuteTime": {
     "end_time": "2025-04-26T09:12:32.734429Z",
     "start_time": "2025-04-26T09:12:32.731253Z"
    }
   },
   "cell_type": "code",
   "source": [
    "ground_attack_planes = []\n",
    "\n",
    "for name, cls in planes_dict.items():\n",
    "    if hasattr(cls, \"tasks\"):\n",
    "        tasks_list = getattr(cls, \"tasks\")\n",
    "        if isinstance(tasks_list, list) and task.CAS in tasks_list:\n",
    "            ground_attack_planes.append(name)"
   ],
   "id": "d4f6db2860eabd19",
   "outputs": [],
   "execution_count": 20
  },
  {
   "metadata": {
    "ExecuteTime": {
     "end_time": "2025-04-26T09:12:35.167390Z",
     "start_time": "2025-04-26T09:12:35.164390Z"
    }
   },
   "cell_type": "code",
   "source": "print(f\"{ground_attack_planes,}\")",
   "id": "316fc4118718f0b",
   "outputs": [
    {
     "name": "stdout",
     "output_type": "stream",
     "text": [
      "(['F_A_18A', 'F_A_18C', 'F_4E', 'B_52H', 'MiG_27K', 'Su_27', 'MiG_23MLD', 'Su_25', 'Su_25TM', 'Su_25T', 'Su_33', 'Su_30', 'Su_17M4', 'Su_24M', 'B_1B', 'F_15E', 'MiG_29A', 'MiG_29G', 'MiG_29S', 'F_16C_bl_50', 'F_16C_bl_52d', 'F_16A', 'F_16A_MLU', 'RQ_1A_Predator', 'FW_190D9', 'FW_190A8', 'Bf_109K_4', 'SpitfireLFMkIX', 'SpitfireLFMkIXCW', 'P_51D', 'P_51D_30_NA', 'P_47D_30', 'P_47D_30bl1', 'P_47D_40', 'MosquitoFBMkVI', 'A_20G', 'A_10A', 'A_10C', 'A_10C_2', 'AJS37', 'AV8BNA', 'C_101CC', 'J_11A', 'JF_17', 'WingLoong_I', 'H_6J', 'F_16C_50', 'F_5E', 'F_5E_3', 'F_86F_Sabre', 'F_14B', 'F_14A_135_GR', 'FA_18C_hornet', 'Hawk', 'I_16', 'L_39C', 'L_39ZA', 'M_2000C', 'MB_339A', 'MQ_9_Reaper', 'MiG_15bis', 'MiG_19P', 'MiG_21Bis', 'Mirage_F1C', 'Mirage_F1CE', 'Mirage_F1EE', 'Mirage_F1M_EE', 'Mirage_F1M_CE', 'Mirage_F1C_200', 'Mirage_F1EH', 'Mirage_F1CH', 'Mirage_F1JA', 'Mirage_F1CG', 'Mirage_F1CZ', 'Mirage_F1CJ', 'Mirage_F1CK', 'Mirage_F1EQ', 'Mirage_F1ED', 'Mirage_F1EDA', 'Mirage_F1CR', 'Mirage_F1CT', 'Mirage_F1B', 'Mirage_F1BE', 'Mirage_F1BQ', 'Mirage_F1BD', 'Mirage_F1DDA', 'Su_34', 'Ju_88A4'],)\n"
     ]
    }
   ],
   "execution_count": 21
  },
  {
   "metadata": {},
   "cell_type": "code",
   "outputs": [],
   "execution_count": null,
   "source": "",
   "id": "3f2ea9f57764a8d0"
  }
 ],
 "metadata": {
  "kernelspec": {
   "display_name": "Python 3",
   "language": "python",
   "name": "python3"
  },
  "language_info": {
   "codemirror_mode": {
    "name": "ipython",
    "version": 2
   },
   "file_extension": ".py",
   "mimetype": "text/x-python",
   "name": "python",
   "nbconvert_exporter": "python",
   "pygments_lexer": "ipython2",
   "version": "2.7.6"
  }
 },
 "nbformat": 4,
 "nbformat_minor": 5
}
